{
 "cells": [
  {
   "cell_type": "markdown",
   "metadata": {},
   "source": [
    "# Animations with Earth Engine\n",
    "**Set the environment**"
   ]
  },
  {
   "cell_type": "markdown",
   "metadata": {},
   "source": [
    "Initialize Earth Engine account"
   ]
  },
  {
   "cell_type": "code",
   "execution_count": 1,
   "metadata": {},
   "outputs": [],
   "source": [
    "from ee_satellite_imagery import Composite, Animation\n",
    "from ipywidgets import interact\n",
    "import matplotlib.pyplot as plt\n",
    "import numpy as np\n",
    "from pprint import pprint\n",
    "import getpass\n",
    "import requests\n",
    "import json\n",
    "import os\n",
    "import ee\n",
    "ee.Initialize()"
   ]
  },
  {
   "cell_type": "markdown",
   "metadata": {},
   "source": [
    "## Satellite imagery\n",
    "**Area of Interest**"
   ]
  },
  {
   "cell_type": "code",
   "execution_count": 2,
   "metadata": {},
   "outputs": [],
   "source": [
    "geometry = {\n",
    "  \"type\": \"FeatureCollection\",\n",
    "  \"features\": [\n",
    "    {\n",
    "      \"type\": \"Feature\",\n",
    "      \"properties\": {},\n",
    "      \"geometry\": {\n",
    "        \"type\": \"Polygon\",\n",
    "        \"coordinates\": [\n",
    "          [\n",
    "            [\n",
    "              17.60009765625,\n",
    "              -14.744671057048434\n",
    "            ],\n",
    "            [\n",
    "              17.77484893798828,\n",
    "              -14.744671057048434\n",
    "            ],\n",
    "            [\n",
    "              17.77484893798828,\n",
    "              -14.576273583944515\n",
    "            ],\n",
    "            [\n",
    "              17.60009765625,\n",
    "              -14.576273583944515\n",
    "            ],\n",
    "            [\n",
    "              17.60009765625,\n",
    "              -14.744671057048434\n",
    "            ]\n",
    "          ]\n",
    "        ]\n",
    "      }\n",
    "    }\n",
    "  ]\n",
    "}\n",
    "\n",
    "geometry = {\n",
    "  \"type\": \"FeatureCollection\",\n",
    "  \"features\": [\n",
    "    {\n",
    "      \"type\": \"Feature\",\n",
    "      \"properties\": {},\n",
    "      \"geometry\": {\n",
    "        \"type\": \"Polygon\",\n",
    "        \"coordinates\": [\n",
    "          [\n",
    "            [\n",
    "              17.64181137084961,\n",
    "              -14.670037466743915\n",
    "            ],\n",
    "            [\n",
    "              17.73957252502441,\n",
    "              -14.670037466743915\n",
    "            ],\n",
    "            [\n",
    "              17.73957252502441,\n",
    "              -14.638565836897298\n",
    "            ],\n",
    "            [\n",
    "              17.64181137084961,\n",
    "              -14.638565836897298\n",
    "            ],\n",
    "            [\n",
    "              17.64181137084961,\n",
    "              -14.670037466743915\n",
    "            ]\n",
    "          ]\n",
    "        ]\n",
    "      }\n",
    "    }\n",
    "  ]\n",
    "}"
   ]
  },
  {
   "cell_type": "markdown",
   "metadata": {},
   "source": [
    "### Static image"
   ]
  },
  {
   "cell_type": "code",
   "execution_count": 16,
   "metadata": {},
   "outputs": [
    {
     "data": {
      "text/html": [
       "<div style=\"width:100%;\"><div style=\"position:relative;width:100%;height:0;padding-bottom:60%;\"><iframe src=\"data:text/html;charset=utf-8;base64,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\" style=\"position:absolute;width:100%;height:100%;left:0;top:0;border:none !important;\" allowfullscreen webkitallowfullscreen mozallowfullscreen></iframe></div></div>"
      ],
      "text/plain": [
       "<folium.folium.Map at 0x1213735b0>"
      ]
     },
     "execution_count": 16,
     "metadata": {},
     "output_type": "execute_result"
    }
   ],
   "source": [
    "composite = Composite(geometry=geometry, startDate = ee.Date('2019-01-01'), stopDate = ee.Date('2019-12-31'), collection = 'Sentinel2')\n",
    "composite.read_composite()\n",
    "composite.display_composite_folium()"
   ]
  },
  {
   "cell_type": "markdown",
   "metadata": {},
   "source": [
    "**Save image as `png`**"
   ]
  },
  {
   "cell_type": "code",
   "execution_count": 17,
   "metadata": {},
   "outputs": [],
   "source": [
    "composite.save_composite_as_png('../data/', 'Sentinel2_6')"
   ]
  },
  {
   "cell_type": "markdown",
   "metadata": {},
   "source": [
    "### Time-lapse"
   ]
  },
  {
   "cell_type": "code",
   "execution_count": 9,
   "metadata": {},
   "outputs": [],
   "source": [
    "animation = Animation(geometry=geometry, start_year = 1988, stop_year = 2019, instrument = 'Landsat')"
   ]
  },
  {
   "cell_type": "markdown",
   "metadata": {},
   "source": [
    "**Numpy array**"
   ]
  },
  {
   "cell_type": "code",
   "execution_count": 10,
   "metadata": {},
   "outputs": [
    {
     "name": "stdout",
     "output_type": "stream",
     "text": [
      "Image number: 0\n",
      "Image number: 1\n",
      "Image number: 2\n",
      "Image number: 3\n",
      "Image number: 4\n",
      "Image number: 5\n",
      "Image number: 6\n",
      "Image number: 7\n",
      "Image number: 8\n",
      "Image number: 9\n",
      "Image number: 10\n",
      "Image number: 11\n",
      "Image number: 12\n",
      "Image number: 13\n",
      "Image number: 14\n",
      "Image number: 15\n",
      "Image number: 16\n",
      "Image number: 17\n",
      "Image number: 18\n",
      "Image number: 19\n",
      "Image number: 20\n",
      "Image number: 21\n",
      "Image number: 22\n",
      "Image number: 23\n",
      "Image number: 24\n",
      "Image number: 25\n",
      "Image number: 26\n",
      "Image number: 27\n",
      "Image number: 28\n",
      "Image number: 29\n",
      "Image number: 30\n",
      "Image number: 31\n"
     ]
    }
   ],
   "source": [
    "video = animation.video_as_array(dimensions=1024)\n",
    "video = animation.video_add_elements(logo_path='../data/mongabay-horizontal.jpg', y_pixels=20)"
   ]
  },
  {
   "cell_type": "code",
   "execution_count": 6,
   "metadata": {},
   "outputs": [
    {
     "data": {
      "application/vnd.jupyter.widget-view+json": {
       "model_id": "321a9e0536ce44c8a9ce221a190ba60e",
       "version_major": 2,
       "version_minor": 0
      },
      "text/plain": [
       "interactive(children=(IntSlider(value=0, description='frame', max=3), Output()), _dom_classes=('widget-interac…"
      ]
     },
     "metadata": {},
     "output_type": "display_data"
    }
   ],
   "source": [
    "@interact(frame=(0, video.shape[0]-1))\n",
    "def show_frame(frame=0):\n",
    "    plt.figure(figsize=(20,10))\n",
    "    plt.imshow(video[frame,:,:,:])"
   ]
  },
  {
   "cell_type": "markdown",
   "metadata": {},
   "source": [
    "**Create animations from a Numpy Array**"
   ]
  },
  {
   "cell_type": "code",
   "execution_count": 11,
   "metadata": {},
   "outputs": [],
   "source": [
    "animation.create_movie_from_array('../data/ladsat8.mp4', output_format='mp4')"
   ]
  },
  {
   "cell_type": "markdown",
   "metadata": {},
   "source": [
    "**Upload animation to Google cloud storage**"
   ]
  },
  {
   "cell_type": "code",
   "execution_count": null,
   "metadata": {},
   "outputs": [],
   "source": [
    "source_file_name = '../data/movie.mp4'\n",
    "destination_blob_name = 'movie-tiles/mongabay/movie.mp4'\n",
    "animation.upload_blob(source_file_name, destination_blob_name)"
   ]
  },
  {
   "cell_type": "markdown",
   "metadata": {},
   "source": [
    "**Remove file from local directory**"
   ]
  },
  {
   "cell_type": "code",
   "execution_count": null,
   "metadata": {},
   "outputs": [],
   "source": [
    "os.remove('../data/movie.mp4')"
   ]
  },
  {
   "cell_type": "markdown",
   "metadata": {},
   "source": [
    "**Display animation on map**"
   ]
  },
  {
   "cell_type": "code",
   "execution_count": null,
   "metadata": {},
   "outputs": [],
   "source": [
    "url = \"https://storage.cloud.google.com/skydipper_materials/movie-tiles/mongabay/movie.mp4\"\n",
    "animation.display_animation(url)"
   ]
  },
  {
   "cell_type": "markdown",
   "metadata": {},
   "source": [
    "## Deploying Cloud Functions\n",
    "\n",
    "To create a Google Cloud Function we need a [Google Cloud Project](https://cloud.google.com/resource-manager/docs/creating-managing-projects) and [gcloud SDK](https://cloud.google.com/sdk/docs/).\n",
    "\n",
    "If we have already some projects we can check them by typing:\n",
    "\n",
    "`gcloud projects list`\n",
    "```\n",
    "PROJECT_ID        NAME                     PROJECT_NUMBER\n",
    "gef-ld-toolbox    gef-ld-toolbox           1080184168142\n",
    "gfw-apis          Global Forest Watch API  872868960419\n",
    "resource-watch    Resource Watch           312603932249\n",
    "skydipper-196010  skydipper                230510979472\n",
    "soc-platform      SOC Platform             345072612231\n",
    "```\n",
    "and select one by:\n",
    "\n",
    "`gcloud config set project skydipper-196010`\n",
    "\n",
    "Then create a function by creating a `main.py` file with some python code on it:\n",
    "\n",
    "```python\n",
    "from ee_satellite_imagery import Animation\n",
    "import json\n",
    "import ee\n",
    "\n",
    "service_account = 'skydipper@skydipper-196010.iam.gserviceaccount.com'\n",
    "credentials = ee.ServiceAccountCredentials(service_account, 'privatekey.json')\n",
    "ee.Initialize(credentials)\n",
    "\n",
    "def serializer(url):\n",
    "\n",
    "    return {\n",
    "        'download_url': url\n",
    "    }\n",
    "\n",
    "def animation(request):\n",
    "    request = request.get_json()\n",
    "    \n",
    "    animation = Animation(geometry=request['geometry'], start_year = request['start_year'], stop_year = request['stop_year'], instrument = request['instrument'])\n",
    "    \n",
    "    # Numpy array\n",
    "    video = animation.video_as_array(dimensions=request['dimensions'])\n",
    "\n",
    "    # Create animations from a Numpy Array\n",
    "    animation.create_movie_from_array('movie.mp4', output_format='mp4')\n",
    "    \n",
    "    # Upload animation to Google cloud storage\n",
    "    print('Uploadong animation to Google cloud storage')\n",
    "    source_file_name = 'movie.mp4'\n",
    "    destination_blob_name = 'movie-tiles/mongabay/movie.mp4'\n",
    "    animation.upload_blob(source_file_name, destination_blob_name)\n",
    "\n",
    "    url = \"https://storage.cloud.google.com/skydipper_materials/movie-tiles/mongabay/movie.mp4\"\n",
    "\n",
    "    return json.dumps(serialize_response(url))\n",
    "```\n",
    "\n",
    "In the same directory include the `privatekey.json` with the [service account keys](https://cloud.google.com/iam/docs/creating-managing-service-account-keys) and the `requirements.txt` file. \n",
    "\n",
    "Finally cd to that directory and deploy the cloud Function with the following command:\n",
    "\n",
    "`gcloud beta functions deploy animation --runtime python37 --trigger-http --timeout 540` \n",
    "\n",
    "Note that the cloud function name matches the name of the function we defined in code: `animation`."
   ]
  },
  {
   "cell_type": "markdown",
   "metadata": {},
   "source": [
    "## Call the Cloud Functions\n",
    "\n",
    "You can invoke Cloud Functions with an HTTP request using the POST, PUT, GET, DELETE, and OPTIONS HTTP methods. To find the `URL` that triggers the function open the details of the created function and click on the `Trigger` tab."
   ]
  },
  {
   "cell_type": "markdown",
   "metadata": {},
   "source": [
    "Get your Google OAuth token with the following command:\n",
    "\n",
    "`gcloud auth print-identity-token`"
   ]
  },
  {
   "cell_type": "code",
   "execution_count": null,
   "metadata": {},
   "outputs": [],
   "source": [
    "token = getpass.getpass('Provide a Google OAuth token here:')"
   ]
  },
  {
   "cell_type": "code",
   "execution_count": null,
   "metadata": {},
   "outputs": [],
   "source": [
    "payload =   {\n",
    "    \"start_year\": 2010,\n",
    "    \"stop_year\": 2019,\n",
    "    \"instrument\": \"Landsat\",\n",
    "    \"dimensions\":512,\n",
    "    \"geometry\": {\n",
    "  \"type\": \"FeatureCollection\",\n",
    "  \"features\": [\n",
    "    {\n",
    "      \"type\": \"Feature\",\n",
    "      \"properties\": {},\n",
    "      \"geometry\": {\n",
    "        \"type\": \"Polygon\",\n",
    "        \"coordinates\": [\n",
    "          [\n",
    "            [\n",
    "              17.60009765625,\n",
    "              -14.744671057048434\n",
    "            ],\n",
    "            [\n",
    "              17.77484893798828,\n",
    "              -14.744671057048434\n",
    "            ],\n",
    "            [\n",
    "              17.77484893798828,\n",
    "              -14.576273583944515\n",
    "            ],\n",
    "            [\n",
    "              17.60009765625,\n",
    "              -14.576273583944515\n",
    "            ],\n",
    "            [\n",
    "              17.60009765625,\n",
    "              -14.744671057048434\n",
    "            ]\n",
    "          ]\n",
    "        ]\n",
    "      }\n",
    "    }\n",
    "  ]\n",
    "}\n",
    "}"
   ]
  },
  {
   "cell_type": "code",
   "execution_count": null,
   "metadata": {},
   "outputs": [],
   "source": [
    "%%time\n",
    "url = f'https://us-central1-skydipper-196010.cloudfunctions.net/animation'\n",
    "\n",
    "headers = {'Authorization': 'Bearer ' + token, 'Content-Type': 'application/json'}\n",
    "#headers = {'Content-Type': 'application/json'}\n",
    "\n",
    "r = requests.post(url, data=json.dumps(payload), headers=headers)\n",
    "pprint(r.json())"
   ]
  },
  {
   "cell_type": "code",
   "execution_count": null,
   "metadata": {},
   "outputs": [],
   "source": []
  }
 ],
 "metadata": {
  "kernelspec": {
   "display_name": "Python 3",
   "language": "python",
   "name": "python3"
  },
  "language_info": {
   "codemirror_mode": {
    "name": "ipython",
    "version": 3
   },
   "file_extension": ".py",
   "mimetype": "text/x-python",
   "name": "python",
   "nbconvert_exporter": "python",
   "pygments_lexer": "ipython3",
   "version": "3.8.2"
  }
 },
 "nbformat": 4,
 "nbformat_minor": 4
}
