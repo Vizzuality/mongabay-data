{
 "cells": [
  {
   "cell_type": "markdown",
   "metadata": {},
   "source": [
    "# Animations with Earth Engine\n",
    "**Set the environment**"
   ]
  },
  {
   "cell_type": "markdown",
   "metadata": {},
   "source": [
    "Initialize Earth Engine account"
   ]
  },
  {
   "cell_type": "code",
   "execution_count": 1,
   "metadata": {},
   "outputs": [],
   "source": [
    "from ee_satellite_imagery import Composite, Animation\n",
    "import numpy as np\n",
    "import pandas as pd\n",
    "import ee\n",
    "ee.Initialize()"
   ]
  },
  {
   "cell_type": "markdown",
   "metadata": {},
   "source": [
    "## Satellite imagery\n",
    "**Area of Interest**"
   ]
  },
  {
   "cell_type": "code",
   "execution_count": 2,
   "metadata": {},
   "outputs": [],
   "source": [
    "geometry = {\n",
    "  \"type\": \"FeatureCollection\",\n",
    "  \"features\": [\n",
    "    {\n",
    "      \"type\": \"Feature\",\n",
    "      \"properties\": {},\n",
    "      \"geometry\": {\n",
    "        \"type\": \"Polygon\",\n",
    "        \"coordinates\": [\n",
    "          [\n",
    "            [\n",
    "              17.60009765625,\n",
    "              -14.744671057048434\n",
    "            ],\n",
    "            [\n",
    "              17.77484893798828,\n",
    "              -14.744671057048434\n",
    "            ],\n",
    "            [\n",
    "              17.77484893798828,\n",
    "              -14.576273583944515\n",
    "            ],\n",
    "            [\n",
    "              17.60009765625,\n",
    "              -14.576273583944515\n",
    "            ],\n",
    "            [\n",
    "              17.60009765625,\n",
    "              -14.744671057048434\n",
    "            ]\n",
    "          ]\n",
    "        ]\n",
    "      }\n",
    "    }\n",
    "  ]\n",
    "}"
   ]
  },
  {
   "cell_type": "markdown",
   "metadata": {},
   "source": [
    "### Static image"
   ]
  },
  {
   "cell_type": "code",
   "execution_count": 3,
   "metadata": {},
   "outputs": [
    {
     "data": {
      "text/html": [
       "<div style=\"width:100%;\"><div style=\"position:relative;width:100%;height:0;padding-bottom:60%;\"><iframe src=\"data:text/html;charset=utf-8;base64,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\" style=\"position:absolute;width:100%;height:100%;left:0;top:0;border:none !important;\" allowfullscreen webkitallowfullscreen mozallowfullscreen></iframe></div></div>"
      ],
      "text/plain": [
       "<folium.folium.Map at 0x31d146f50>"
      ]
     },
     "execution_count": 3,
     "metadata": {},
     "output_type": "execute_result"
    }
   ],
   "source": [
    "composite = Composite(geometry=geometry, startDate = ee.Date('2019-01-01'), stopDate = ee.Date('2019-12-31'), collection = 'Sentinel2')\n",
    "composite.read_composite()\n",
    "composite.display_composite_folium()"
   ]
  },
  {
   "cell_type": "markdown",
   "metadata": {},
   "source": [
    "### Time-lapse"
   ]
  },
  {
   "cell_type": "code",
   "execution_count": 4,
   "metadata": {},
   "outputs": [],
   "source": [
    "animation = Animation(geometry=geometry, start_year = 2000, stop_year = 2019, instrument = 'Landsat')"
   ]
  },
  {
   "cell_type": "markdown",
   "metadata": {},
   "source": [
    "**Create an animated GIF**"
   ]
  },
  {
   "cell_type": "code",
   "execution_count": 6,
   "metadata": {},
   "outputs": [
    {
     "name": "stdout",
     "output_type": "stream",
     "text": [
      "https://earthengine.googleapis.com/api/thumb?thumbid=e505512eb3ea8cfe8d2c2d853a288bb1&token=36e7ffa6a21c256f96a72982e6b495fa\n"
     ]
    }
   ],
   "source": [
    "url = animation.animated_ThumbURL(frames_per_second=4, dimensions=256, scale=30)\n",
    "print(url)"
   ]
  },
  {
   "cell_type": "markdown",
   "metadata": {},
   "source": [
    "**Export video to Cloud Storage**"
   ]
  },
  {
   "cell_type": "code",
   "execution_count": 7,
   "metadata": {},
   "outputs": [
    {
     "name": "stdout",
     "output_type": "stream",
     "text": [
      "Temporal status:  READY\n",
      "Temporal status:  RUNNING\n",
      "Temporal status:  RUNNING\n",
      "Temporal status:  RUNNING\n",
      "Temporal status:  RUNNING\n",
      "Temporal status:  RUNNING\n",
      "Temporal status:  RUNNING\n",
      "Temporal status:  RUNNING\n",
      "Temporal status:  RUNNING\n",
      "Temporal status:  RUNNING\n",
      "Temporal status:  RUNNING\n",
      "Temporal status:  RUNNING\n",
      "Temporal status:  RUNNING\n",
      "Temporal status:  RUNNING\n",
      "Temporal status:  RUNNING\n",
      "Temporal status:  RUNNING\n",
      "Temporal status:  RUNNING\n",
      "Temporal status:  RUNNING\n",
      "Temporal status:  RUNNING\n",
      "Temporal status:  RUNNING\n",
      "Temporal status:  RUNNING\n",
      "Temporal status:  RUNNING\n",
      "Temporal status:  RUNNING\n",
      "Temporal status:  RUNNING\n",
      "Temporal status:  RUNNING\n",
      "Temporal status:  RUNNING\n",
      "Temporal status:  RUNNING\n",
      "Final status:  COMPLETED\n",
      "Blob mongabay/movie_test/ee-export-video4689652492614257135.mp4 has been renamed to mongabay/movie_test/video_1584623412.mp4\n"
     ]
    }
   ],
   "source": [
    "animation.export_video_to_GCS(frames_per_second=4, dimensions=256, scale=30)"
   ]
  },
  {
   "cell_type": "markdown",
   "metadata": {},
   "source": [
    "**Display animation on map**"
   ]
  },
  {
   "cell_type": "code",
   "execution_count": 8,
   "metadata": {},
   "outputs": [
    {
     "data": {
      "application/vnd.jupyter.widget-view+json": {
       "model_id": "302080db362f4138a24a653435465caa",
       "version_major": 2,
       "version_minor": 0
      },
      "text/plain": [
       "Map(center=[-14.660477843347719, 17.687473297119272], controls=(ZoomControl(options=['position', 'zoom_in_text…"
      ]
     },
     "metadata": {},
     "output_type": "display_data"
    }
   ],
   "source": [
    "animation.display_video()"
   ]
  }
 ],
 "metadata": {
  "kernelspec": {
   "display_name": "Python 3",
   "language": "python",
   "name": "python3"
  },
  "language_info": {
   "codemirror_mode": {
    "name": "ipython",
    "version": 3
   },
   "file_extension": ".py",
   "mimetype": "text/x-python",
   "name": "python",
   "nbconvert_exporter": "python",
   "pygments_lexer": "ipython3",
   "version": "3.7.4"
  }
 },
 "nbformat": 4,
 "nbformat_minor": 4
}
