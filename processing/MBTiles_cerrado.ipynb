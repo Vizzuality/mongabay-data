{
 "cells": [
  {
   "cell_type": "markdown",
   "metadata": {},
   "source": [
    "# Create MBTiles for Cerrado cropland and pasture areas"
   ]
  },
  {
   "cell_type": "code",
   "execution_count": 47,
   "metadata": {},
   "outputs": [],
   "source": [
    "import geopandas as gpd\n",
    "import matplotlib.pyplot as plt\n",
    "import subprocess"
   ]
  },
  {
   "cell_type": "code",
   "execution_count": 48,
   "metadata": {},
   "outputs": [],
   "source": [
    "def create_mbtiles(source_path, dest_path, layer_name, opts=\"-zg --drop-densest-as-needed --extend-zooms-if-still-dropping --force --read-parallel\"):\n",
    "    \"\"\"\n",
    "    Use tippecanoe to create a MBTILE at dest_path from source_path.\n",
    "    layer_name is used for the name of the layer in the MBTILE.\n",
    "    Regex file path (/*.geojson) is supported for source_path.\n",
    "    \"\"\"\n",
    "    cmd = f\"tippecanoe -o {dest_path} -l {layer_name} {opts} {source_path}\"\n",
    "    print(f\"Processing: {cmd}\")\n",
    "    r = subprocess.call(cmd, shell=True)\n",
    "    if r == 0:\n",
    "        print(\"Task created\")\n",
    "    else:\n",
    "        print(\"Task failed\")\n",
    "    print(\"Finished processing\")"
   ]
  },
  {
   "cell_type": "markdown",
   "metadata": {},
   "source": [
    "## Croplands"
   ]
  },
  {
   "cell_type": "code",
   "execution_count": 75,
   "metadata": {},
   "outputs": [],
   "source": [
    "gdf = gpd.read_file('../data/agricultura_agrosatelite/agricultura_agrosatelite_2001')\n",
    "gdf.to_file('../data/agricultura_agrosatelite/agricultura_agrosatelite_2001.json', driver=\"GeoJSON\")"
   ]
  },
  {
   "cell_type": "code",
   "execution_count": 79,
   "metadata": {},
   "outputs": [
    {
     "name": "stdout",
     "output_type": "stream",
     "text": [
      "Year: 2007\n",
      "Processing: tippecanoe -o ../data/agricultura_agrosatelite/agricultura_agrosatelite_2007.mbtiles -l agricultura_agrosatelite_2007 -zg --drop-densest-as-needed --extend-zooms-if-still-dropping --force --read-parallel ../data/agricultura_agrosatelite/agricultura_agrosatelite_2007.json\n",
      "Task created\n",
      "Finished processing\n",
      "Year: 2014\n",
      "Processing: tippecanoe -o ../data/agricultura_agrosatelite/agricultura_agrosatelite_2014.mbtiles -l agricultura_agrosatelite_2014 -zg --drop-densest-as-needed --extend-zooms-if-still-dropping --force --read-parallel ../data/agricultura_agrosatelite/agricultura_agrosatelite_2014.json\n",
      "Task created\n",
      "Finished processing\n"
     ]
    }
   ],
   "source": [
    "for year in ['2007', '2014']:#['2001', '2007', '2014']:\n",
    "    print(f'Year: {year}')\n",
    "    gdf = gpd.read_file(f'../data/agricultura_agrosatelite/agricultura_agrosatelite_{year}')\n",
    "    gdf.to_file(f'../data/agricultura_agrosatelite/agricultura_agrosatelite_{year}.json', driver=\"GeoJSON\")\n",
    "    \n",
    "    layer_name = f'agricultura_agrosatelite_{year}'\n",
    "    source_path = f'../data/agricultura_agrosatelite/agricultura_agrosatelite_{year}.json'\n",
    "    dest_path = f'../data/agricultura_agrosatelite/agricultura_agrosatelite_{year}.mbtiles'\n",
    "    create_mbtiles(source_path, dest_path, layer_name, opts=\"-zg --drop-densest-as-needed --extend-zooms-if-still-dropping --force --read-parallel\")"
   ]
  },
  {
   "cell_type": "code",
   "execution_count": 81,
   "metadata": {},
   "outputs": [
    {
     "name": "stdout",
     "output_type": "stream",
     "text": [
      "Listening on http://localhost:9000\n",
      "^C\n"
     ]
    }
   ],
   "source": [
    "!mbview --port 9000 ../data/agricultura_agrosatelite/agricultura_agrosatelite_2014.mbtiles"
   ]
  },
  {
   "cell_type": "markdown",
   "metadata": {},
   "source": [
    "## Pastures"
   ]
  },
  {
   "cell_type": "code",
   "execution_count": 44,
   "metadata": {},
   "outputs": [],
   "source": [
    "gdf = gpd.read_file('../data/pasture_cerrado/pasture_cerrado_2018/pasture_cerrado_2018.shp')"
   ]
  },
  {
   "cell_type": "code",
   "execution_count": 68,
   "metadata": {},
   "outputs": [],
   "source": [
    "gdf[['area_ha', 'municipio', 'municipio', 'geometry']].to_file('../data/pasture_cerrado/pasture_cerrado_2018.json', driver=\"GeoJSON\")"
   ]
  },
  {
   "cell_type": "code",
   "execution_count": null,
   "metadata": {},
   "outputs": [],
   "source": [
    "-pt or --no-tiny-polygon-reduction: Don't combine the area of very small polygons into small squares that represent their combined area."
   ]
  },
  {
   "cell_type": "code",
   "execution_count": null,
   "metadata": {},
   "outputs": [],
   "source": [
    "--coalesce-densest-as-needed: If the tiles are too big at low or medium zoom levels, merge as many features together as are necessary to allow tiles to be created with those features that are still distinguished"
   ]
  },
  {
   "cell_type": "code",
   "execution_count": 73,
   "metadata": {},
   "outputs": [
    {
     "name": "stdout",
     "output_type": "stream",
     "text": [
      "Processing: tippecanoe -o ../data/pasture_cerrado/pasture_cerrado_2018.mbtiles -l pasture_cerrado_2018 -zg --force --read-parallel ../data/pasture_cerrado/pasture_cerrado_2018.json\n",
      "Task created\n",
      "Finished processing\n"
     ]
    }
   ],
   "source": [
    "layer_name = 'pasture_cerrado_2018'\n",
    "source_path = '../data/pasture_cerrado/pasture_cerrado_2018.json'\n",
    "dest_path = '../data/pasture_cerrado/pasture_cerrado_2018.mbtiles'\n",
    "#create_mbtiles(source_path, dest_path, layer_name, opts=\"-zg --drop-densest-as-needed --extend-zooms-if-still-dropping --force --read-parallel\")\n",
    "create_mbtiles(source_path, dest_path, layer_name, opts=\"-zg --force --read-parallel\")"
   ]
  },
  {
   "cell_type": "code",
   "execution_count": 74,
   "metadata": {},
   "outputs": [
    {
     "name": "stdout",
     "output_type": "stream",
     "text": [
      "Listening on http://localhost:9000\n",
      "^C\n"
     ]
    }
   ],
   "source": [
    "!mbview --port 9000 ../data/pasture_cerrado/pasture_cerrado_2018.mbtiles"
   ]
  }
 ],
 "metadata": {
  "kernelspec": {
   "display_name": "Python 3",
   "language": "python",
   "name": "python3"
  },
  "language_info": {
   "codemirror_mode": {
    "name": "ipython",
    "version": 3
   },
   "file_extension": ".py",
   "mimetype": "text/x-python",
   "name": "python",
   "nbconvert_exporter": "python",
   "pygments_lexer": "ipython3",
   "version": "3.8.2"
  }
 },
 "nbformat": 4,
 "nbformat_minor": 4
}
