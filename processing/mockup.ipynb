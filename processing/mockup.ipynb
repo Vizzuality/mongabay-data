{
 "cells": [
  {
   "cell_type": "code",
   "execution_count": 1,
   "metadata": {},
   "outputs": [],
   "source": [
    "from ipyleaflet import Map, basemaps, basemap_to_tiles, TileLayer, LayersControl, FullScreenControl, SplitMapControl, LayerGroup, WMSLayer"
   ]
  },
  {
   "cell_type": "code",
   "execution_count": 14,
   "metadata": {},
   "outputs": [],
   "source": [
    "landsat_url = 'https://storage.cloud.google.com/skydipper-landsat-cache/2018/{z}/{x}/{y}.png'\n",
    "landsat_basemap = TileLayer(\n",
    "    url=landsat_url,\n",
    "    layers='landsat',\n",
    "    format='image/png',\n",
    "    name='Landsat',\n",
    "    opacity=1\n",
    ")\n",
    "\n",
    "planet_url = 'https://tiles.planet.com/basemaps/v1/planet-tiles/global_monthly_2020_01_mosaic/gmap/{z}/{x}/{y}.png?api_key=f366791cb438466fb9e3e492e721da8d'\n",
    "planet_basemap = TileLayer(\n",
    "    url=planet_url ,\n",
    "    layers='planet',\n",
    "    format='image/png',\n",
    "    name='Planet',\n",
    "    opacity=1\n",
    ")\n",
    "\n",
    "planet_url = 'https://tiles.planet.com/basemaps/v1/planet-tiles/global_monthly_2020_01_mosaic/gmap/{z}/{x}/{y}.png?api_key=f366791cb438466fb9e3e492e721da8d'\n",
    "planet_basemap = TileLayer(\n",
    "    url=planet_url ,\n",
    "    layers='planet',\n",
    "    format='image/png',\n",
    "    name='Planet',\n",
    "    opacity=1\n",
    ")\n",
    "\n",
    "topography_url = 'https://a.tiles.mapbox.com/v4/strava.a5qumcxr/{z}/{x}/{y}.png?access_token=pk.eyJ1Ijoic3RyYXZhIiwiYSI6IlpoeXU2U0UifQ.c7yhlZevNRFCqHYm6G6Cyg'\n",
    "topography_basemap = TileLayer(\n",
    "    url=topography_url,\n",
    "    layers='topography',\n",
    "    format='image/png',\n",
    "    name='Strava topography',\n",
    "    opacity=1\n",
    ")\n",
    "\n",
    "wms = WMSLayer(\n",
    "    url='http://mesonet.agron.iastate.edu/cgi-bin/wms/nexrad/n0r.cgi',\n",
    "    layers='nexrad-n0r-900913',\n",
    "    format='image/png',\n",
    "    transparent=True,\n",
    "    attribution='Weather data © 2012 IEM Nexrad'\n",
    ")"
   ]
  },
  {
   "cell_type": "code",
   "execution_count": 16,
   "metadata": {},
   "outputs": [
    {
     "data": {
      "application/vnd.jupyter.widget-view+json": {
       "model_id": "69e7f8ac5c124e4e93d9d3579f6fbf02",
       "version_major": 2,
       "version_minor": 0
      },
      "text/plain": [
       "Map(center=[40.406, -3.697], controls=(ZoomControl(options=['position', 'zoom_in_text', 'zoom_in_title', 'zoom…"
      ]
     },
     "metadata": {},
     "output_type": "display_data"
    }
   ],
   "source": [
    "center = (40.406, -3.697)\n",
    "m = Map(center=(center), zoom=10)\n",
    "\n",
    "hike_bike_basemap = basemap_to_tiles(basemaps.HikeBike.HikeBike,opacity=1)\n",
    "strava_ride_basemap = basemap_to_tiles(basemaps.Strava.Ride,opacity=1)\n",
    "strava_run_basemap = basemap_to_tiles(basemaps.Strava.Run, opacity=1)\n",
    "m.add_layer(hike_bike_basemap)\n",
    "m.add_layer(landsat_basemap)\n",
    "m.add_layer(planet_basemap)\n",
    "m.add_layer(topography_basemap)\n",
    "\n",
    "control = LayersControl(position='topright')\n",
    "m.add_control(control)\n",
    "m.add_control(FullScreenControl())\n",
    "m"
   ]
  },
  {
   "cell_type": "code",
   "execution_count": 101,
   "metadata": {},
   "outputs": [
    {
     "data": {
      "application/vnd.jupyter.widget-view+json": {
       "model_id": "8e1a48f57791475485fc7ae2d8245d15",
       "version_major": 2,
       "version_minor": 0
      },
      "text/plain": [
       "Map(center=[42.6824, 365.581], controls=(ZoomControl(options=['position', 'zoom_in_text', 'zoom_in_title', 'zo…"
      ]
     },
     "metadata": {},
     "output_type": "display_data"
    }
   ],
   "source": [
    "m = Map(center=(42.6824, 365.581), zoom=5)\n",
    "\n",
    "right_layer = LayerGroup(layers=(hike_bike_basemap, strava_ride_basemap))#basemap_to_tiles(basemaps.NASAGIBS.ModisTerraTrueColorCR, \"2017-11-11\")\n",
    "left_layer = LayerGroup(layers=(landsat_basemap, wms))#basemap_to_tiles(basemaps.NASAGIBS.ModisAquaBands721CR, \"2017-11-11\")\n",
    "\n",
    "control = SplitMapControl(left_layer=strava_ride_basemap, right_layer=landsat_basemap)\n",
    "m.add_control(control)\n",
    "\n",
    "m"
   ]
  },
  {
   "cell_type": "code",
   "execution_count": 83,
   "metadata": {},
   "outputs": [
    {
     "data": {
      "application/vnd.jupyter.widget-view+json": {
       "model_id": "d4e1261a90e74272b15be52272717c51",
       "version_major": 2,
       "version_minor": 0
      },
      "text/plain": [
       "Map(center=[40.406, -3.697], controls=(ZoomControl(options=['position', 'zoom_in_text', 'zoom_in_title', 'zoom…"
      ]
     },
     "metadata": {},
     "output_type": "display_data"
    }
   ],
   "source": [
    "center = (40.406, -3.697)\n",
    "m = Map(center=(center), zoom=10)\n",
    "\n",
    "m.add_layer(right_layer)\n",
    "m.add_layer(left_layer)\n",
    "\n",
    "control = LayersControl(position='topright')\n",
    "m.add_control(control)\n",
    "m.add_control(FullScreenControl())\n",
    "m"
   ]
  },
  {
   "cell_type": "code",
   "execution_count": null,
   "metadata": {},
   "outputs": [],
   "source": []
  }
 ],
 "metadata": {
  "kernelspec": {
   "display_name": "Python 3",
   "language": "python",
   "name": "python3"
  },
  "language_info": {
   "codemirror_mode": {
    "name": "ipython",
    "version": 3
   },
   "file_extension": ".py",
   "mimetype": "text/x-python",
   "name": "python",
   "nbconvert_exporter": "python",
   "pygments_lexer": "ipython3",
   "version": "3.7.4"
  }
 },
 "nbformat": 4,
 "nbformat_minor": 4
}
